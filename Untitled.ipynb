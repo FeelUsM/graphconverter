{
 "cells": [
  {
   "cell_type": "code",
   "execution_count": 59,
   "id": "c783bc74-82fb-47a4-b11d-ee6336bb5335",
   "metadata": {},
   "outputs": [
    {
     "name": "stdout",
     "output_type": "stream",
     "text": [
      "The autoreload extension is already loaded. To reload it, use:\n",
      "  %reload_ext autoreload\n"
     ]
    },
    {
     "data": {
      "text/plain": [
       "'/home/feelus/tmp/packages/graphconverter'"
      ]
     },
     "execution_count": 59,
     "metadata": {},
     "output_type": "execute_result"
    }
   ],
   "source": [
    "%load_ext autoreload\n",
    "%autoreload\n",
    "import os\n",
    "import graphconverter as gc\n",
    "import subprocess\n",
    "import networkx as nx\n",
    "from pprint import pprint\n",
    "import pydot\n",
    "\n",
    "os.getcwd()"
   ]
  },
  {
   "cell_type": "code",
   "execution_count": 178,
   "id": "033c11ff-08e9-4e25-a73e-dad113fd1ab4",
   "metadata": {},
   "outputs": [],
   "source": [
    "def pyvis_from_nxdot(G): # from nx with dot attributes\n",
    "\tnet = Network(notebook=True, height=\"700px\", width=\"100%\", directed=G.is_directed())\n",
    "\t# 4. Добавляем узлы\n",
    "\tfor n, attrs in G.nodes(data=True):\n",
    "\t\tlabel = attrs.get(\"label\", str(n))\n",
    "\t\tcolor = attrs.get(\"fillcolor\", attrs.get(\"color\", \"#97C2FC\"))  # дефолтный синий pyvis\n",
    "\t\tx = y = None\n",
    "\t\tpos = attrs.get(\"pos\")\n",
    "\t\tif pos:\n",
    "\t\t\ttry:\n",
    "\t\t\t\t# \"x,y!\" → x и y\n",
    "\t\t\t\tx_str, y_str = pos.rstrip(\"!\").split(\",\")\n",
    "\t\t\t\tx = float(x_str)\n",
    "\t\t\t\ty = -float(y_str)  # pyvis ось Y противоположна Graphviz\n",
    "\t\t\texcept:\n",
    "\t\t\t\tpass\n",
    "\n",
    "\t\tnet.add_node(n, label=label, color=color, x=x, y=y, shape=\"circle\", physics=False if x is not None else True)\n",
    "\n",
    "\t# 5. Добавляем рёбра\n",
    "\tfor u, v, key, attrs in G.edges(keys=True, data=True):\n",
    "\t\tlabel = attrs.get(\"label\", \"\")\n",
    "\t\tcolor = attrs.get(\"color\", \"#848484\")\n",
    "\t\tnet.add_edge(u, v, label=label, color=color)\n",
    "\treturn net\n",
    "\n",
    "def draw_nxdot(G):\n",
    "\tdef epos(G): # extract_pos\n",
    "\t\treturn {k:tuple(float(x) for x in v[\"pos\"].replace('\"','').replace('!','').split(',')) for k,v in G.nodes.items()}\n",
    "\tnode_colors = [attrs.get(\"fillcolor\", \"#FFCC00\") for _, attrs in G.nodes(data=True)]\n",
    "\tedge_colors = [attrs.get(\"color\", \"#000000\") for _, _, attrs in G.edges(data=True)]\n",
    "\tnx.draw(G,\n",
    "\t\twith_labels=True,\n",
    "\t\tlabels=nx.get_node_attributes(G, \"label\"),\n",
    "\t\tpos=epos(G),\n",
    "\t\tnode_color=node_colors,\n",
    "\t\tedge_color=edge_colors\n",
    "   )\n",
    "\tnx.draw_networkx_edge_labels(G, epos(G), edge_labels=nx.get_edge_attributes(G, \"label\"))"
   ]
  },
  {
   "cell_type": "code",
   "execution_count": 179,
   "id": "ba96d982-267d-41bf-873c-efc6e987fba1",
   "metadata": {},
   "outputs": [],
   "source": [
    "def test(name):\n",
    "\tGD = gc.pydot_from_graphml(name+'.graphml')\n",
    "\n",
    "\tGD.write(name+'.dot')\n",
    "\tprint(GD)\n",
    "\t#GD.draw(name+\".png\", prog=\"neato\", args=\"-n\")\n",
    "\tsubprocess.run([\"neato\", \"-n\", \"-Tpng\", name+\".dot\", \"-o\", name+\".png\"])\n",
    "\n",
    "\tgc.pydot_to_graphml(GD,name+'-2.graphml')\n",
    "\n",
    "\tG = nx.nx_pydot.from_pydot(GD)\n",
    "\n",
    "\tGD2 = nx.nx_pydot.to_pydot(G)\n",
    "\tGD2.write(name+'-2.dot')\n",
    "\t#GD2.draw(name+\"-2.png\", prog=\"neato\", args=\"-n\")\n",
    "\tsubprocess.run([\"neato\", \"-n\", \"-Tpng\", name+\"-2.dot\", \"-o\", name+\"-2.png\"])\n",
    "\n",
    "\tprint(G.nodes(data=True))\n",
    "\tprint(G.edges(data=True))\n",
    "\tdraw_nxdot(G)\n",
    "\treturn nx_dot2pyvis(G)"
   ]
  },
  {
   "cell_type": "code",
   "execution_count": 180,
   "id": "ef394540-f507-4de1-9f6c-86e2255e4a8b",
   "metadata": {},
   "outputs": [
    {
     "name": "stdout",
     "output_type": "stream",
     "text": [
      "digraph G {\n",
      "n0 [pos=\"375.0,-195.0!\", label=1, fillcolor=\"#FFCC00\", style=filled];\n",
      "n1 [pos=\"525.0,-195.0!\", label=2, fillcolor=\"#FF000096\", style=filled];\n",
      "n2 [pos=\"525.0,-315.0!\", label=3, fillcolor=\"#FFCC00\", style=filled];\n",
      "n3 [pos=\"375.0,-315.0!\", label=4, fillcolor=\"#00FF00\", style=filled];\n",
      "n0 -> n1 [id=e0, color=\"#000000\", label=L1];\n",
      "n0 -> n2 [id=e1, color=\"#0000FF\"];\n",
      "}\n",
      "\n",
      "[('n0', {'pos': '375.0,-195.0!', 'label': '1', 'fillcolor': '#FFCC00', 'style': 'filled'}), ('n1', {'pos': '525.0,-195.0!', 'label': '2', 'fillcolor': '#FF000096', 'style': 'filled'}), ('n2', {'pos': '525.0,-315.0!', 'label': '3', 'fillcolor': '#FFCC00', 'style': 'filled'}), ('n3', {'pos': '375.0,-315.0!', 'label': '4', 'fillcolor': '#00FF00', 'style': 'filled'})]\n",
      "[('n0', 'n1', {'id': 'e0', 'color': '#000000', 'label': 'L1'}), ('n0', 'n2', {'id': 'e1', 'color': '#0000FF'})]\n",
      "Warning: When  cdn_resources is 'local' jupyter notebook has issues displaying graphics on chrome/safari. Use cdn_resources='in_line' or cdn_resources='remote' if you have issues viewing graphics in a notebook.\n",
      "temp.html\n"
     ]
    },
    {
     "data": {
      "text/html": [
       "\n",
       "        <iframe\n",
       "            width=\"100%\"\n",
       "            height=\"700px\"\n",
       "            src=\"temp.html\"\n",
       "            frameborder=\"0\"\n",
       "            allowfullscreen\n",
       "            \n",
       "        ></iframe>\n",
       "        "
      ],
      "text/plain": [
       "<IPython.lib.display.IFrame at 0x7861a97f2ed0>"
      ]
     },
     "execution_count": 180,
     "metadata": {},
     "output_type": "execute_result"
    },
    {
     "data": {
      "image/png": "[encoded data removed]",
      "text/plain": [
       "<Figure size 640x480 with 1 Axes>"
      ]
     },
     "metadata": {},
     "output_type": "display_data"
    }
   ],
   "source": [
    "test('test/03-colors').show('temp.html')"
   ]
  },
  {
   "cell_type": "code",
   "execution_count": 181,
   "id": "5fc151dd-c200-40c2-834f-7c6ac95d8caf",
   "metadata": {},
   "outputs": [
    {
     "name": "stdout",
     "output_type": "stream",
     "text": [
      "digraph G {\n",
      "n0 [pos=\"375.0,-195.0!\", label=1, fillcolor=\"#FFCC00\", style=filled];\n",
      "n1 [pos=\"525.0,-195.0!\", label=2, fillcolor=\"#FFCC00\", style=filled];\n",
      "n2 [pos=\"525.0,-315.0!\", label=3, fillcolor=\"#FFCC00\", style=filled];\n",
      "n3 [pos=\"375.0,-315.0!\", label=4, fillcolor=\"#FFCC00\", style=filled];\n",
      "n0 -> n1 [id=e0, color=\"#000000\", label=L1];\n",
      "n0 -> n2 [id=e1, color=\"#000000\", label=L3];\n",
      "n0 -> n2 [id=e2, color=\"#000000\", label=L2];\n",
      "n0 -> n0 [id=e3, color=\"#000000\", label=L0];\n",
      "}\n",
      "\n",
      "[('n0', {'pos': '375.0,-195.0!', 'label': '1', 'fillcolor': '#FFCC00', 'style': 'filled'}), ('n1', {'pos': '525.0,-195.0!', 'label': '2', 'fillcolor': '#FFCC00', 'style': 'filled'}), ('n2', {'pos': '525.0,-315.0!', 'label': '3', 'fillcolor': '#FFCC00', 'style': 'filled'}), ('n3', {'pos': '375.0,-315.0!', 'label': '4', 'fillcolor': '#FFCC00', 'style': 'filled'})]\n",
      "[('n0', 'n1', {'id': 'e0', 'color': '#000000', 'label': 'L1'}), ('n0', 'n2', {'id': 'e1', 'color': '#000000', 'label': 'L3'}), ('n0', 'n2', {'id': 'e2', 'color': '#000000', 'label': 'L2'}), ('n0', 'n0', {'id': 'e3', 'color': '#000000', 'label': 'L0'})]\n",
      "Warning: When  cdn_resources is 'local' jupyter notebook has issues displaying graphics on chrome/safari. Use cdn_resources='in_line' or cdn_resources='remote' if you have issues viewing graphics in a notebook.\n",
      "temp.html\n"
     ]
    },
    {
     "data": {
      "text/html": [
       "\n",
       "        <iframe\n",
       "            width=\"100%\"\n",
       "            height=\"700px\"\n",
       "            src=\"temp.html\"\n",
       "            frameborder=\"0\"\n",
       "            allowfullscreen\n",
       "            \n",
       "        ></iframe>\n",
       "        "
      ],
      "text/plain": [
       "<IPython.lib.display.IFrame at 0x7861a8c5a540>"
      ]
     },
     "execution_count": 181,
     "metadata": {},
     "output_type": "execute_result"
    },
    {
     "data": {
      "image/png": "[encoded data removed]",
      "text/plain": [
       "<Figure size 640x480 with 1 Axes>"
      ]
     },
     "metadata": {},
     "output_type": "display_data"
    }
   ],
   "source": [
    "# в networkx для отрисовки мультирёбер надо по сути свою функцию рисования почти с нуля написать\n",
    "test('test/02-loop-multiedge').show('temp.html')"
   ]
  },
  {
   "cell_type": "code",
   "execution_count": 182,
   "id": "7a058e9b-ad76-40b8-b5c3-a8d88fc2de23",
   "metadata": {},
   "outputs": [
    {
     "name": "stdout",
     "output_type": "stream",
     "text": [
      "digraph G {\n",
      "n0 [pos=\"375.0,-195.0!\", label=1, fillcolor=\"#FFCC00\", style=filled];\n",
      "n1 [pos=\"525.0,-195.0!\", label=2, fillcolor=\"#FFCC00\", style=filled];\n",
      "n2 [pos=\"525.0,-315.0!\", label=3, fillcolor=\"#FFCC00\", style=filled];\n",
      "n3 [pos=\"375.0,-315.0!\", label=4, fillcolor=\"#FFCC00\", style=filled];\n",
      "n0 -> n1 [id=e0, color=\"#000000\", label=L1];\n",
      "n0 -> n2 [id=e1, color=\"#000000\"];\n",
      "}\n",
      "\n",
      "[('n0', {'pos': '375.0,-195.0!', 'label': '1', 'fillcolor': '#FFCC00', 'style': 'filled'}), ('n1', {'pos': '525.0,-195.0!', 'label': '2', 'fillcolor': '#FFCC00', 'style': 'filled'}), ('n2', {'pos': '525.0,-315.0!', 'label': '3', 'fillcolor': '#FFCC00', 'style': 'filled'}), ('n3', {'pos': '375.0,-315.0!', 'label': '4', 'fillcolor': '#FFCC00', 'style': 'filled'})]\n",
      "[('n0', 'n1', {'id': 'e0', 'color': '#000000', 'label': 'L1'}), ('n0', 'n2', {'id': 'e1', 'color': '#000000'})]\n",
      "Warning: When  cdn_resources is 'local' jupyter notebook has issues displaying graphics on chrome/safari. Use cdn_resources='in_line' or cdn_resources='remote' if you have issues viewing graphics in a notebook.\n",
      "temp.html\n"
     ]
    },
    {
     "data": {
      "text/html": [
       "\n",
       "        <iframe\n",
       "            width=\"100%\"\n",
       "            height=\"700px\"\n",
       "            src=\"temp.html\"\n",
       "            frameborder=\"0\"\n",
       "            allowfullscreen\n",
       "            \n",
       "        ></iframe>\n",
       "        "
      ],
      "text/plain": [
       "<IPython.lib.display.IFrame at 0x7861ab938ad0>"
      ]
     },
     "execution_count": 182,
     "metadata": {},
     "output_type": "execute_result"
    },
    {
     "data": {
      "image/png": "[encoded data removed]",
      "text/plain": [
       "<Figure size 640x480 with 1 Axes>"
      ]
     },
     "metadata": {},
     "output_type": "display_data"
    }
   ],
   "source": [
    "test('test/01-label-position').show('temp.html')"
   ]
  },
  {
   "cell_type": "code",
   "execution_count": 99,
   "id": "38d6cc02-ff9d-46f4-afb5-a306e9b70581",
   "metadata": {},
   "outputs": [
    {
     "name": "stdout",
     "output_type": "stream",
     "text": [
      "Warning: When  cdn_resources is 'local' jupyter notebook has issues displaying graphics on chrome/safari. Use cdn_resources='in_line' or cdn_resources='remote' if you have issues viewing graphics in a notebook.\n",
      "graph.html\n"
     ]
    }
   ],
   "source": [
    "import networkx as nx\n",
    "import matplotlib.pyplot as plt\n",
    "from pyvis.network import Network\n",
    "\n",
    "G = nx.MultiDiGraph()\n",
    "G.add_edge(1, 2, label='AФ', color=\"#FF0000\")\n",
    "G.add_edge(1, 2, label='d')\n",
    "G.add_edge(1, 2, label='B')\n",
    "\n",
    "net = Network(notebook=True, directed=True, height=\"600px\", width=\"100%\")\n",
    "def foo():\n",
    "\tglobal net\n",
    "\tnet.from_nx(G)\n",
    "\tnet.show(\"graph.html\")\n",
    "foo()"
   ]
  },
  {
   "cell_type": "code",
   "execution_count": 55,
   "id": "ef5c8e47-d761-4da4-818f-8829a867c1a2",
   "metadata": {},
   "outputs": [
    {
     "name": "stdout",
     "output_type": "stream",
     "text": [
      "digraph G {\n",
      "A;\n",
      "B;\n",
      "A -> B [label=\"edge A-B\", id=e1];\n",
      "}\n",
      "\n",
      "[('A', {}), ('B', {})]\n",
      "[('A', 'B', 0, {'label': 'edge A-B', 'id': 'e1'})]\n"
     ]
    }
   ],
   "source": [
    "import pydot\n",
    "\n",
    "G = pydot.Dot(graph_type=\"digraph\")\n",
    "\n",
    "G.add_node(pydot.Node(\"A\"))\n",
    "G.add_node(pydot.Node(\"B\"))\n",
    "\n",
    "# добавляем ребро с id\n",
    "G.add_edge(pydot.Edge(\"A\", \"B\", label=\"edge A-B\", id=\"e1\"))\n",
    "\n",
    "print(G.to_string())\n",
    "G = nx.nx_pydot.from_pydot(G)\n",
    "# print(type(G)) # MultiDiGraph\n",
    "print(G.nodes(data=True))\n",
    "print(G.edges(data=True, keys=))"
   ]
  },
  {
   "cell_type": "code",
   "execution_count": null,
   "id": "c163b5ae-fe6a-4570-b61f-ded71d535a21",
   "metadata": {},
   "outputs": [],
   "source": []
  },
  {
   "cell_type": "code",
   "execution_count": 1,
   "id": "657eda20-fba3-45ea-a844-f726f955f792",
   "metadata": {},
   "outputs": [],
   "source": [
    "import networkx as nx"
   ]
  },
  {
   "cell_type": "code",
   "execution_count": 3,
   "id": "1ce0ab31-a69d-4659-bfce-e52e9ca693c4",
   "metadata": {},
   "outputs": [],
   "source": [
    "G = nx.read_graphml(\"../../docs/aObsidianVault/ubuntu-packages.graphml\")"
   ]
  },
  {
   "cell_type": "code",
   "execution_count": 18,
   "id": "49d9db15-91c9-448d-a088-ec16b133fff4",
   "metadata": {},
   "outputs": [
    {
     "name": "stdout",
     "output_type": "stream",
     "text": [
      "n0 n1 {'description': '', 'id': 'e0', 'color': '#000000'}\n",
      "n0 n2 {'description': '', 'id': 'e1', 'color': '#FF0000'}\n",
      "n0 n3 {'description': '', 'id': 'e2', 'color': '#FF0000'}\n",
      "n0 n4 {'description': '', 'id': 'e3', 'color': '#FF0000'}\n",
      "n0 n5 {'description': '', 'id': 'e4', 'color': '#FF0000'}\n",
      "n0 n6 {'description': '', 'id': 'e5', 'color': '#FF0000'}\n",
      "n0 n7 {'description': '', 'id': 'e6', 'color': '#FF0000'}\n",
      "n0 n8 {'description': '', 'id': 'e7', 'color': '#FF0000'}\n",
      "n2 n3 {'description': '', 'id': 'e8', 'color': '#000000'}\n",
      "n3 n9 {'description': '', 'id': 'e9', 'color': '#000000'}\n",
      "n3 n10 {'description': '', 'id': 'e10', 'color': '#00FF00'}\n",
      "n4 n3 {'description': '', 'id': 'e11', 'color': '#000000'}\n",
      "n5 n3 {'description': '', 'id': 'e12', 'color': '#000000'}\n",
      "n6 n3 {'description': '', 'id': 'e13', 'color': '#000000'}\n",
      "n6 n11 {'description': '', 'id': 'e14', 'color': '#000000'}\n",
      "n7 n3 {'description': '', 'id': 'e16', 'color': '#000000'}\n",
      "n8 n3 {'description': '', 'id': 'e17', 'color': '#000000'}\n",
      "n11 n3 {'description': '', 'id': 'e15', 'color': '#000000'}\n",
      "n12 n3 {'description': '', 'id': 'e18', 'color': '#000000'}\n",
      "n12 n9 {'description': '', 'id': 'e19', 'color': '#000000'}\n",
      "n12 n13 {'description': '', 'id': 'e20', 'color': '#000000'}\n",
      "n12 n14 {'description': '', 'id': 'e21', 'color': '#000000'}\n",
      "n12 n15 {'description': '', 'id': 'e22', 'color': '#000000'}\n",
      "n12 n16 {'description': '', 'id': 'e23', 'color': '#000000'}\n",
      "n12 n17 {'description': '', 'id': 'e24', 'color': '#000000'}\n",
      "n12 n18 {'description': '', 'id': 'e25', 'color': '#000000'}\n",
      "n12 n19 {'description': '', 'id': 'e26', 'color': '#000000'}\n",
      "n12 n20 {'description': '', 'id': 'e27', 'color': '#000000'}\n",
      "n12 n21 {'description': '', 'id': 'e28', 'color': '#000000'}\n",
      "n12 n22 {'description': '', 'id': 'e29', 'color': '#00FF00'}\n",
      "n13 n6 {'description': '', 'id': 'e30', 'color': '#000000'}\n",
      "n13 n3 {'description': '', 'id': 'e31', 'color': '#000000'}\n",
      "n13 n23 {'description': '', 'id': 'e32', 'color': '#000000'}\n",
      "n13 n24 {'description': '', 'id': 'e33', 'color': '#00FF00'}\n",
      "n13 n25 {'description': '', 'id': 'e34', 'color': '#00FF00'}\n",
      "n23 n3 {'description': '', 'id': 'e35', 'color': '#000000'}\n"
     ]
    }
   ],
   "source": [
    "import xml.etree.ElementTree as ET\n",
    "\n",
    "# --- парсим XML напрямую ---\n",
    "tree = ET.parse(\"../../docs/aObsidianVault/ubuntu-packages.graphml\")\n",
    "root = tree.getroot()\n",
    "\n",
    "# пространства имён\n",
    "ns = {\n",
    "    \"g\": \"http://graphml.graphdrawing.org/xmlns\",\n",
    "    \"y\": \"http://www.yworks.com/xml/graphml\"\n",
    "}\n",
    "\n",
    "# обходим все рёбра\n",
    "for edge in root.findall(\".//g:edge\", ns):\n",
    "    src = edge.get(\"source\")\n",
    "    tgt = edge.get(\"target\")\n",
    "\n",
    "    line_style = edge.find(\".//y:LineStyle\", ns)\n",
    "    if line_style is not None:\n",
    "        color = line_style.get(\"color\")\n",
    "\n",
    "        # добавляем в networkx\n",
    "        if G.has_edge(src, tgt):\n",
    "            G[src][tgt][\"color\"] = color\n",
    "        elif G.has_edge(tgt, src):  # если граф неориентированный\n",
    "            G[tgt][src][\"color\"] = color\n",
    "\n",
    "# --- проверим ---\n",
    "for u, v, data in G.edges(data=True):\n",
    "    print(u, v, data)\n"
   ]
  },
  {
   "cell_type": "code",
   "execution_count": 36,
   "id": "052048f4-c37b-4384-b592-2f97583906b2",
   "metadata": {},
   "outputs": [
    {
     "data": {
      "text/plain": [
       "{'description': '',\n",
       " 'x': '-113.29673767089844',\n",
       " 'y': '156.65588569641113',\n",
       " 'shape_type': 'rectangle',\n",
       " 'label': 'dpkg - admin\\nDebian package management system'}"
      ]
     },
     "execution_count": 36,
     "metadata": {},
     "output_type": "execute_result"
    }
   ],
   "source": [
    "G.nodes['n0']"
   ]
  },
  {
   "cell_type": "code",
   "execution_count": 27,
   "id": "0046b65a-36c5-46b7-9481-0de4738daee3",
   "metadata": {},
   "outputs": [
    {
     "data": {
      "text/plain": [
       "dict"
      ]
     },
     "execution_count": 27,
     "metadata": {},
     "output_type": "execute_result"
    }
   ],
   "source": [
    "type(G.nodes['n0'])"
   ]
  },
  {
   "cell_type": "code",
   "execution_count": 34,
   "id": "42df08a0-cb26-4812-a071-4f44e24e9ead",
   "metadata": {},
   "outputs": [
    {
     "data": {
      "text/plain": [
       "(-967.9846267700195, -173.34411430358887)"
      ]
     },
     "execution_count": 34,
     "metadata": {},
     "output_type": "execute_result"
    }
   ],
   "source": [
    "xmin = +100500000000\n",
    "ymin = +100500000000\n",
    "for n in G.nodes:\n",
    "\tif 'x' in G.nodes[n]: xmin = min(xmin,float(G.nodes[n]['x']))\n",
    "\tif 'y' in G.nodes[n]: ymin = min(ymin,float(G.nodes[n]['y']))\n",
    "(xmin,ymin)"
   ]
  },
  {
   "cell_type": "code",
   "execution_count": 23,
   "id": "16e18410-c8ae-4b64-b963-5f247e7477fc",
   "metadata": {},
   "outputs": [],
   "source": [
    "# Изменение графа\n",
    "G.add_node(\"new_node\")\n",
    "G.add_edge(\"new_node\", \"n0\")"
   ]
  },
  {
   "cell_type": "code",
   "execution_count": 37,
   "id": "b7d077f5-2d8d-462c-a143-980090d7113f",
   "metadata": {},
   "outputs": [],
   "source": [
    "G.nodes['new_node']['label'] = 'new label'\n",
    "G.nodes['new_node']['description'] = ''\n",
    "G.nodes['new_node']['x'] = str(xmin)\n",
    "G.nodes['new_node']['y'] = str(ymin)\n",
    "G.nodes['new_node']['shape_type'] = 'rectangle'\n"
   ]
  },
  {
   "cell_type": "code",
   "execution_count": 38,
   "id": "7e61e54a-9c9a-45cb-a7f3-5072822a5aa5",
   "metadata": {},
   "outputs": [
    {
     "data": {
      "text/plain": [
       "{'label': 'new label',\n",
       " 'description': '',\n",
       " 'x': '-967.9846267700195',\n",
       " 'y': '-173.34411430358887',\n",
       " 'shape_type': 'rectangle'}"
      ]
     },
     "execution_count": 38,
     "metadata": {},
     "output_type": "execute_result"
    }
   ],
   "source": [
    "G.nodes['new_node']"
   ]
  },
  {
   "cell_type": "code",
   "execution_count": 39,
   "id": "2f49c29f-1adf-4a65-8427-9a99c2e76d5f",
   "metadata": {},
   "outputs": [],
   "source": [
    "# Сохранение обратно\n",
    "nx.write_graphml(G, \"modified.graphml\")"
   ]
  },
  {
   "cell_type": "code",
   "execution_count": null,
   "id": "428edf45-f0e0-4f9e-b088-3a74c6bd170a",
   "metadata": {},
   "outputs": [],
   "source": []
  },
  {
   "cell_type": "code",
   "execution_count": null,
   "id": "2c9ecaba-1fde-4718-8079-23daca4baaf2",
   "metadata": {},
   "outputs": [],
   "source": []
  },
  {
   "cell_type": "code",
   "execution_count": null,
   "id": "7080c9df-73ca-480c-9c53-01d677a80b6d",
   "metadata": {},
   "outputs": [],
   "source": []
  },
  {
   "cell_type": "code",
   "execution_count": 42,
   "id": "bb159267-00d7-44a7-bd9f-7c141e8143bb",
   "metadata": {},
   "outputs": [],
   "source": [
    "import pyyed\n",
    "\n",
    "g = pyyed.Graph()\n",
    "\n",
    "# Добавляем узлы (цвет задаём через shape_fill)\n",
    "g.add_node(\"n1\", label=\"1\", shape=\"ellipse\", shape_fill=\"#FF0000\")  # красный\n",
    "g.add_node(\"n2\", label=\"2\", shape=\"ellipse\", shape_fill=\"#0000FF\")  # синий\n",
    "g.add_node(\"n3\", label=\"3\", shape=\"ellipse\", shape_fill=\"#00FF00\")  # зелёный\n",
    "g.add_node(\"n4\", label=\"4\", shape=\"ellipse\", shape_fill=\"#FFFF00\")  # жёлтый\n",
    "\n",
    "# Рёбра (цвет задаём через color)\n",
    "g.add_edge(\"n1\", \"n2\", color=\"#FF0000\")  # красное ребро\n",
    "g.add_edge(\"n2\", \"n3\", color=\"#0000FF\")  # синее ребро\n",
    "\n",
    "# Сохраняем GraphML\n",
    "with open(\"square.graphml\", \"w\", encoding=\"utf-8\") as f:\n",
    "    f.write(g.get_graph())\n"
   ]
  },
  {
   "cell_type": "code",
   "execution_count": 55,
   "id": "b46f9281-fffd-4449-bf47-3b8cb5f18710",
   "metadata": {},
   "outputs": [
    {
     "name": "stdout",
     "output_type": "stream",
     "text": [
      "Файл square.graphml удален\n",
      "Создано узлов: 4\n",
      "Имена узлов: ['n0', 'n1', 'n2', 'n3']\n",
      "Node1-красный: не найден атрибут для цвета\n",
      "Доступные атрибуты: ['UML', 'VALID_NODE_SHAPES', 'add_label', 'border_color', 'border_type', 'border_width', 'convert_to_xml', 'custom_properties_defs', 'description', 'geom', 'id', 'list_of_labels', 'name', 'node_type', 'parent', 'set_custom_properties_defs', 'shape', 'shape_fill', 'top_level_graph', 'transparent', 'url']\n",
      "Node2-синий: не найден атрибут для цвета\n",
      "Доступные атрибуты: ['UML', 'VALID_NODE_SHAPES', 'add_label', 'border_color', 'border_type', 'border_width', 'convert_to_xml', 'custom_properties_defs', 'description', 'geom', 'id', 'list_of_labels', 'name', 'node_type', 'parent', 'set_custom_properties_defs', 'shape', 'shape_fill', 'top_level_graph', 'transparent', 'url']\n",
      "Node3-зеленый: не найден атрибут для цвета\n",
      "Доступные атрибуты: ['UML', 'VALID_NODE_SHAPES', 'add_label', 'border_color', 'border_type', 'border_width', 'convert_to_xml', 'custom_properties_defs', 'description', 'geom', 'id', 'list_of_labels', 'name', 'node_type', 'parent', 'set_custom_properties_defs', 'shape', 'shape_fill', 'top_level_graph', 'transparent', 'url']\n",
      "Node4-желтый: не найден атрибут для цвета\n",
      "Доступные атрибуты: ['UML', 'VALID_NODE_SHAPES', 'add_label', 'border_color', 'border_type', 'border_width', 'convert_to_xml', 'custom_properties_defs', 'description', 'geom', 'id', 'list_of_labels', 'name', 'node_type', 'parent', 'set_custom_properties_defs', 'shape', 'shape_fill', 'top_level_graph', 'transparent', 'url']\n",
      "Узлов после установки цветов: 4\n",
      "persisting graph to file: /home/feelus/tmp/packages/square.graphml\n",
      "Граф сохранён в файл square.graphml\n",
      "\n",
      "Для лучшего расположения узлов в квадрате:\n",
      "1. Откройте файл в yEd\n",
      "2. Выберите все узлы\n",
      "3. Используйте Layout -> Organic или Circular\n",
      "4. Или расположите узлы вручную в вершинах квадрата\n",
      "\n",
      "Содержимое GraphML файла:\n",
      "<graphml xmlns=\"http://graphml.graphdrawing.org/xmlns\" xmlns:java=\"http://www.yworks.com/xml/yfiles-common/1.0/java\" xmlns:sys=\"http://www.yworks.com/xml/yfiles-common/markup/primitives/2.0\" xmlns:x=\"http://www.yworks.com/xml/yfiles-common/markup/2.0\" xmlns:xsi=\"http://www.w3.org/2001/XMLSchema-instance\" xmlns:y=\"http://www.yworks.com/xml/graphml\" xmlns:yed=\"http://www.yworks.com/xml/yed/3\" xsi:schemaLocation=\"http://graphml.graphdrawing.org/xmlns http://www.yworks.com/xml/schema/graphml/1.1/ygraphml.xsd\"><key id=\"data_node\" for=\"node\" yfiles.type=\"nodegraphics\" /><key id=\"url_node\" for=\"node\" attr.name=\"url\" attr.type=\"string\" /><key id=\"description_node\" for=\"node\" attr.name=\"description\" attr.type=\"string\" /><key id=\"url_edge\" for=\"edge\" attr.name=\"url\" attr.type=\"string\" /><key id=\"description_edge\" for=\"edge\" attr.name=\"description\" attr.type=\"string\" /><key id=\"data_edge\" for=\"edge\" yfiles.type=\"edgegraphics\" /><graph edgedefault=\"directed\" id=\"G\"><node id=\"n0\"><data key=\"data_node\"><y:ShapeNode><y:Fill color=\"#FFCC00\" transparent=\"false\" /><y:BorderStyle color=\"#000000\" type=\"line\" width=\"1.0\" /><y:NodeLabel horizontalTextPosition=\"center\" verticalTextPosition=\"center\" alignment=\"center\" fontStyle=\"plain\" fontFamily=\"Dialog\" iconTextGap=\"4\" fontSize=\"12\" textColor=\"#000000\" visible=\"true\" underlinedText=\"false\" hasBackgroundColor=\"false\" width=\"55.708984375\" height=\"18.1328125\" modelName=\"internal\" modelPosition=\"c\">Node1</y:NodeLabel><y:Shape type=\"ellipse\" /></y:ShapeNode></data></node><node id=\"n1\"><data key=\"data_node\"><y:ShapeNode><y:Fill color=\"#FFCC00\" transparent=\"false\" /><y:BorderStyle color=\"#000000\" type=\"line\" width=\"1.0\" /><y:NodeLabel horizontalTextPosition=\"center\" verticalTextPosition=\"center\" alignment=\"center\" fontStyle=\"plain\" fontFamily=\"Dialog\" iconTextGap=\"4\" fontSize=\"12\" textColor=\"#000000\" visible=\"true\" underlinedText=\"false\" hasBackgroundColor=\"false\" width=\"55.708984375\" height=\"18.1328125\" modelName=\"internal\" modelPosition=\"c\">Node2</y:NodeLabel><y:Shape type=\"ellipse\" /></y:ShapeNode></data></node><node id=\"n2\"><data key=\"data_node\"><y:ShapeNode><y:Fill color=\"#FFCC00\" transparent=\"false\" /><y:BorderStyle color=\"#000000\" type=\"line\" width=\"1.0\" /><y:NodeLabel horizontalTextPosition=\"center\" verticalTextPosition=\"center\" alignment=\"center\" fontStyle=\"plain\" fontFamily=\"Dialog\" iconTextGap=\"4\" fontSize=\"12\" textColor=\"#000000\" visible=\"true\" underlinedText=\"false\" hasBackgroundColor=\"false\" width=\"55.708984375\" height=\"18.1328125\" modelName=\"internal\" modelPosition=\"c\">Node3</y:NodeLabel><y:Shape type=\"ellipse\" /></y:ShapeNode></data></node><node id=\"n3\"><data key=\"data_node\"><y:ShapeNode><y:Fill color=\"#FFCC00\" transparent=\"false\" /><y:BorderStyle color=\"#000000\" type=\"line\" width=\"1.0\" /><y:NodeLabel horizontalTextPosition=\"center\" verticalTextPosition=\"center\" alignment=\"center\" fontStyle=\"plain\" fontFamily=\"Dialog\" iconTextGap=\"4\" fontSize=\"12\" textColor=\"#000000\" visible=\"true\" underlinedText=\"false\" hasBackgroundColor=\"false\" width=\"55.708984375\" height=\"18.1328125\" modelName=\"internal\" modelPosition=\"c\">Node4</y:NodeLabel><y:Shape type=\"ellipse\" /></y:ShapeNode></data></node><node id=\"n4\"><data key=\"data_node\"><y:ShapeNode><y:Fill color=\"#FFCC00\" transparent=\"false\" /><y:BorderStyle color=\"#000000\" type=\"line\" width=\"1.0\" /><y:NodeLabel horizontalTextPosition=\"center\" verticalTextPosition=\"center\" alignment=\"center\" fontStyle=\"plain\" fontFamily=\"Dialog\" iconTextGap=\"4\" fontSize=\"12\" textColor=\"#000000\" visible=\"true\" underlinedText=\"false\" hasBackgroundColor=\"false\" width=\"55.708984375\" height=\"18.1328125\" modelName=\"internal\" modelPosition=\"c\">Node1</y:NodeLabel><y:Shape type=\"rectangle\" /></y:ShapeNode></data></node><node id=\"n5\"><data key=\"data_node\"><y:ShapeNode><y:Fill color=\"#FFCC00\" transparent=\"false\" /><y:BorderStyle color=\"#000000\" type=\"line\" width=\"1.0\" /><y:NodeLabel horizontalTextPosition=\"center\" verticalTextPosition=\"center\" alignment=\"center\" fontStyle=\"plain\" fontFamily=\"Dialog\" iconTextGap=\"4\" fontSize=\"12\" textColor=\"#000000\" visible=\"true\" underlinedText=\"false\" hasBackgroundColor=\"false\" width=\"55.708984375\" height=\"18.1328125\" modelName=\"internal\" modelPosition=\"c\">Node2</y:NodeLabel><y:Shape type=\"rectangle\" /></y:ShapeNode></data></node><node id=\"n6\"><data key=\"data_node\"><y:ShapeNode><y:Fill color=\"#FFCC00\" transparent=\"false\" /><y:BorderStyle color=\"#000000\" type=\"line\" width=\"1.0\" /><y:NodeLabel horizontalTextPosition=\"center\" verticalTextPosition=\"center\" alignment=\"center\" fontStyle=\"plain\" fontFamily=\"Dialog\" iconTextGap=\"4\" fontSize=\"12\" textColor=\"#000000\" visible=\"true\" underlinedText=\"false\" hasBackgroundColor=\"false\" width=\"55.708984375\" height=\"18.1328125\" modelName=\"internal\" modelPosition=\"c\">Node2</y:NodeLabel><y:Shape type=\"rectangle\" /></y:ShapeNode></data></node><node id=\"n7\"><data key=\"data_node\"><y:ShapeNode><y:Fill color=\"#FFCC00\" transparent=\"false\" /><y:BorderStyle color=\"#000000\" type=\"line\" width=\"1.0\" /><y:NodeLabel horizontalTextPosition=\"center\" verticalTextPosition=\"center\" alignment=\"center\" fontStyle=\"plain\" fontFamily=\"Dialog\" iconTextGap=\"4\" fontSize=\"12\" textColor=\"#000000\" visible=\"true\" underlinedText=\"false\" hasBackgroundColor=\"false\" width=\"55.708984375\" height=\"18.1328125\" modelName=\"internal\" modelPosition=\"c\">Node3</y:NodeLabel><y:Shape type=\"rectangle\" /></y:ShapeNode></data></node><edge id=\"e0\" source=\"n4\" target=\"n5\"><data key=\"data_edge\"><y:PolyLineEdge><y:Arrows source=\"none\" target=\"standard\" /><y:LineStyle color=\"#FF0000\" type=\"line\" width=\"3.0\" /><y:EdgeLabel horizontalTextPosition=\"center\" verticalTextPosition=\"center\" alignment=\"center\" fontStyle=\"plain\" fontFamily=\"Dialog\" iconTextGap=\"4\" fontSize=\"12\" textColor=\"#000000\" visible=\"true\" underlinedText=\"false\" hasBackgroundColor=\"false\" width=\"55.708984375\" height=\"18.1328125\" borderColor=\"\" backgroundColor=\"\" modelName=\"centered\" modelPosition=\"center\">1→2</y:EdgeLabel></y:PolyLineEdge></data></edge><edge id=\"e1\" source=\"n6\" target=\"n7\"><data key=\"data_edge\"><y:PolyLineEdge><y:Arrows source=\"none\" target=\"standard\" /><y:LineStyle color=\"#0000FF\" type=\"line\" width=\"3.0\" /><y:EdgeLabel horizontalTextPosition=\"center\" verticalTextPosition=\"center\" alignment=\"center\" fontStyle=\"plain\" fontFamily=\"Dialog\" iconTextGap=\"4\" fontSize=\"12\" textColor=\"#000000\" visible=\"true\" underlinedText=\"false\" hasBackgroundColor=\"false\" width=\"55.708984375\" height=\"18.1328125\" borderColor=\"\" backgroundColor=\"\" modelName=\"centered\" modelPosition=\"center\">2→3</y:EdgeLabel></y:PolyLineEdge></data></edge></graph></graphml>\n"
     ]
    }
   ],
   "source": [
    "import yedextended as yed\n",
    "import os\n",
    "\n",
    "# Удаляем файл, если он существует\n",
    "if os.path.exists(\"square.graphml\"):\n",
    "    os.remove(\"square.graphml\")\n",
    "    print(\"Файл square.graphml удален\")\n",
    "\n",
    "# Создаём граф\n",
    "graph = yed.Graph()\n",
    "\n",
    "# Создаём 4 узла с сразу правильными параметрами\n",
    "node1 = graph.add_node(\"Node1\", shape=\"ellipse\")\n",
    "node2 = graph.add_node(\"Node2\", shape=\"ellipse\") \n",
    "node3 = graph.add_node(\"Node3\", shape=\"ellipse\")\n",
    "node4 = graph.add_node(\"Node4\", shape=\"ellipse\")\n",
    "\n",
    "print(f\"Создано узлов: {len(graph.nodes)}\")\n",
    "print(f\"Имена узлов: {list(graph.nodes)}\")\n",
    "\n",
    "# Устанавливаем цвета напрямую через объекты узлов\n",
    "# Пробуем разные атрибуты для цвета\n",
    "for node, color, name in [(node1, \"#FF0000\", \"Node1-красный\"), \n",
    "                         (node2, \"#0000FF\", \"Node2-синий\"),\n",
    "                         (node3, \"#00FF00\", \"Node3-зеленый\"), \n",
    "                         (node4, \"#FFFF00\", \"Node4-желтый\")]:\n",
    "    try:\n",
    "        # Пробуем различные атрибуты цвета\n",
    "        if hasattr(node, 'fill_color'):\n",
    "            node.fill_color = color\n",
    "            print(f\"{name}: установлен fill_color\")\n",
    "        elif hasattr(node, 'fill'):\n",
    "            node.fill = color\n",
    "            print(f\"{name}: установлен fill\")\n",
    "        elif hasattr(node, 'color'):\n",
    "            node.color = color\n",
    "            print(f\"{name}: установлен color\")\n",
    "        else:\n",
    "            print(f\"{name}: не найден атрибут для цвета\")\n",
    "            # Выводим доступные атрибуты\n",
    "            print(f\"Доступные атрибуты: {[attr for attr in dir(node) if not attr.startswith('_')]}\")\n",
    "    except Exception as e:\n",
    "        print(f\"Ошибка для {name}: {e}\")\n",
    "\n",
    "print(f\"Узлов после установки цветов: {len(graph.nodes)}\")\n",
    "\n",
    "# Создаём рёбра с правильными именами узлов\n",
    "# Ребро Node1->Node2 красное\n",
    "graph.add_edge(\"Node1\", \"Node2\",\n",
    "               color=\"#FF0000\",      # красный цвет\n",
    "               width=\"3.0\",          # толщина линии\n",
    "               arrowhead=\"standard\", # стрелка\n",
    "               name=\"1→2\")           # подпись\n",
    "\n",
    "# Ребро Node2->Node3 синее\n",
    "graph.add_edge(\"Node2\", \"Node3\",\n",
    "               color=\"#0000FF\",      # синий цвет\n",
    "               width=\"3.0\",          # толщина линии\n",
    "               arrowhead=\"standard\", # стрелка\n",
    "               name=\"2→3\")           # подпись\n",
    "\n",
    "# Сохраняем граф в файл\n",
    "graph.persist_graph(\"square.graphml\", pretty_print=True)\n",
    "\n",
    "print(\"Граф сохранён в файл square.graphml\")\n",
    "print(\"\\nДля лучшего расположения узлов в квадрате:\")\n",
    "print(\"1. Откройте файл в yEd\")\n",
    "print(\"2. Выберите все узлы\")\n",
    "print(\"3. Используйте Layout -> Organic или Circular\")\n",
    "print(\"4. Или расположите узлы вручную в вершинах квадрата\")\n",
    "\n",
    "# Выводим содержимое GraphML для проверки\n",
    "print(\"\\nСодержимое GraphML файла:\")\n",
    "print(graph.stringify_graph())"
   ]
  },
  {
   "cell_type": "code",
   "execution_count": null,
   "id": "f8712965-f379-489a-9a0a-3089e4da40f5",
   "metadata": {},
   "outputs": [],
   "source": []
  },
  {
   "cell_type": "code",
   "execution_count": 62,
   "id": "1cd6deef-3fd2-4d57-af6d-57f1562f5707",
   "metadata": {},
   "outputs": [
    {
     "name": "stdout",
     "output_type": "stream",
     "text": [
      "The autoreload extension is already loaded. To reload it, use:\n",
      "  %reload_ext autoreload\n"
     ]
    }
   ],
   "source": [
    "%load_ext autoreload\n",
    "%autoreload 2\n",
    "import pyyed as yed"
   ]
  },
  {
   "cell_type": "code",
   "execution_count": 63,
   "id": "d15c1773-eb13-47d2-aa84-e01baa022faa",
   "metadata": {},
   "outputs": [
    {
     "name": "stdout",
     "output_type": "stream",
     "text": [
      "key_dict:\n",
      "{'d0': {'attr': 'Description'},\n",
      " 'd1': {'attr': None},\n",
      " 'd10': {'attr': None},\n",
      " 'd2': {'attr': None},\n",
      " 'd3': {'attr': None},\n",
      " 'd4': {'attr': 'url'},\n",
      " 'd5': {'attr': 'description'},\n",
      " 'd6': {'attr': None},\n",
      " 'd7': {'attr': None},\n",
      " 'd8': {'attr': 'url'},\n",
      " 'd9': {'attr': 'description'}}\n"
     ]
    }
   ],
   "source": [
    "G = yed.from_existing_graph(\"ubuntu-packages.graphml\")"
   ]
  },
  {
   "cell_type": "code",
   "execution_count": null,
   "id": "f0dd7fcd-5e20-46c1-b2e4-0d2c55c34cab",
   "metadata": {},
   "outputs": [],
   "source": []
  },
  {
   "cell_type": "code",
   "execution_count": 28,
   "id": "48453d04-82e8-48a0-b2a9-5c9a67421e11",
   "metadata": {},
   "outputs": [
    {
     "name": "stdout",
     "output_type": "stream",
     "text": [
      "<pyyed.Graph object at 0x7193365ac8c0>\n"
     ]
    }
   ],
   "source": [
    "from pprint import pprint\n",
    "pprint(G)"
   ]
  },
  {
   "cell_type": "code",
   "execution_count": null,
   "id": "130b25b9-35e6-40bc-bd79-727ccca219bd",
   "metadata": {},
   "outputs": [],
   "source": []
  },
  {
   "cell_type": "code",
   "execution_count": 75,
   "id": "6e6994b7-cd8a-4ab3-8790-1718ab26b602",
   "metadata": {},
   "outputs": [
    {
     "name": "stdout",
     "output_type": "stream",
     "text": [
      "{'A': {'B': {'foo': 1, 'baz': 77}}, 'B': {'A': {'foo': 1, 'baz': 77}, 'C': {'bar': 2}}, 'C': {'B': {'bar': 2}}, 'End': {}}\n"
     ]
    }
   ],
   "source": [
    "import networkx as nx\n",
    "\n",
    "G = nx.Graph()\n",
    "G.add_edge('A', 'B', foo=1)\n",
    "G.add_edge('B', 'C', bar=2)\n",
    "G.add_node(\"End\")\n",
    "G.add_node(\"End\")\n",
    "G.add_node(\"End\")\n",
    "G['A']['B']['baz'] = 77\n",
    "print(G.adj)"
   ]
  },
  {
   "cell_type": "code",
   "execution_count": 76,
   "id": "8d9f2432-c23e-4c4b-ae30-d67696fef9f0",
   "metadata": {},
   "outputs": [
    {
     "data": {
      "text/plain": [
       "NodeView(('A', 'B', 'C', 'End'))"
      ]
     },
     "execution_count": 76,
     "metadata": {},
     "output_type": "execute_result"
    }
   ],
   "source": [
    "G.nodes"
   ]
  },
  {
   "cell_type": "code",
   "execution_count": 73,
   "id": "d34640ad-e29d-4af5-ba90-49774024f074",
   "metadata": {},
   "outputs": [
    {
     "data": {
      "text/plain": [
       "{'kkk': 7}"
      ]
     },
     "execution_count": 73,
     "metadata": {},
     "output_type": "execute_result"
    }
   ],
   "source": [
    "G.nodes['A']['kkk'] = 7\n",
    "G.nodes['A']"
   ]
  },
  {
   "cell_type": "code",
   "execution_count": 74,
   "id": "1be0e419-002a-4b85-941a-fe9d4cda23e8",
   "metadata": {},
   "outputs": [
    {
     "data": {
      "text/plain": [
       "{'A': array([1.00000000e+00, 1.98682151e-08]), 'B': array([-0.50000007,  0.86602542]), 'C': array([-0.49999993, -0.86602544])}"
      ]
     },
     "execution_count": 74,
     "metadata": {},
     "output_type": "execute_result"
    }
   ],
   "source": [
    "nx.circular_layout(G)"
   ]
  },
  {
   "cell_type": "code",
   "execution_count": null,
   "id": "38cf0992-441b-4d02-bf02-c51a4a8ee446",
   "metadata": {},
   "outputs": [],
   "source": []
  }
 ],
 "metadata": {
  "kernelspec": {
   "display_name": "Python 3 (ipykernel)",
   "language": "python",
   "name": "python3"
  },
  "language_info": {
   "codemirror_mode": {
    "name": "ipython",
    "version": 3
   },
   "file_extension": ".py",
   "mimetype": "text/x-python",
   "name": "python",
   "nbconvert_exporter": "python",
   "pygments_lexer": "ipython3",
   "version": "3.12.3"
  }
 },
 "nbformat": 4,
 "nbformat_minor": 5
}
